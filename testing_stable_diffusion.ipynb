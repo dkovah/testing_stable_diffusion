{
  "cells": [
    {
      "cell_type": "markdown",
      "metadata": {
        "id": "view-in-github",
        "colab_type": "text"
      },
      "source": [
        "<a href=\"https://colab.research.google.com/github/dkovah/testing_stable_diffusion/blob/main/testing_stable_diffusion.ipynb\" target=\"_parent\"><img src=\"https://colab.research.google.com/assets/colab-badge.svg\" alt=\"Open In Colab\"/></a>"
      ]
    },
    {
      "cell_type": "markdown",
      "source": [
        "# Requisitos previos"
      ],
      "metadata": {
        "id": "m-FSt2RqLmVm"
      }
    },
    {
      "cell_type": "code",
      "source": [
        "%%capture\n",
        "#@title 1- Instalar dependencias { display-mode: \"form\" }\n",
        "!pip install diffusers==0.3.0\n",
        "!pip install transformers scipy ftfy\n",
        "!pip install \"ipywidgets>=7,<8\""
      ],
      "metadata": {
        "id": "H_rOBPOgKy1e"
      },
      "execution_count": 1,
      "outputs": []
    },
    {
      "cell_type": "code",
      "source": [
        "#@title 2- Iniciar sesión en HugginFace { display-mode: \"form\" }\n",
        "from huggingface_hub import notebook_login\n",
        "from google.colab import output\n",
        "import torch\n",
        "from torch import autocast\n",
        "from random import randint\n",
        "\n",
        "output.enable_custom_widget_manager()\n",
        "\n",
        "notebook_login()"
      ],
      "metadata": {
        "id": "J-BldEBfLw1M"
      },
      "execution_count": null,
      "outputs": []
    },
    {
      "cell_type": "markdown",
      "source": [
        "# Generador de imágenes"
      ],
      "metadata": {
        "id": "xfCluwkF-O-e"
      }
    },
    {
      "cell_type": "code",
      "source": [
        "%%capture\n",
        "#@title 1- Descargar el modelo\n",
        "from PIL import Image\n",
        "from diffusers import StableDiffusionPipeline\n",
        "pipe = StableDiffusionPipeline.from_pretrained(\"CompVis/stable-diffusion-v1-4\", revision=\"fp16\", torch_dtype=torch.float16, use_auth_token=True)\n",
        "pipe = pipe.to(\"cuda\")\n",
        "\n",
        "def dummy_checker(images, **kwargs): return images, False\n",
        "pipe.safety_checker = dummy_checker"
      ],
      "metadata": {
        "id": "dE7zFN7I_Ce_",
        "cellView": "form"
      },
      "execution_count": null,
      "outputs": []
    },
    {
      "cell_type": "code",
      "execution_count": null,
      "metadata": {
        "id": "0SXnxd-ZrSfy",
        "cellView": "form"
      },
      "outputs": [],
      "source": [
        "#@title 2- Generar imágenes\n",
        "prompt = \"a snail-shaped harp, digital art by Marc Brunet\" #@param {type:\"string\"}\n",
        "inference_steps = 50 #@param {type:\"number\"}\n",
        "guidance_scale = 10 #@param {type:\"number\"}\n",
        "height=512 #@param {type:\"number\"}\n",
        "width=768 #@param {type:\"number\"}\n",
        "random_seed = True #@param {type:\"boolean\"}\n",
        "\n",
        "\n",
        "seed = 93916128 #@param {type:\"number\"}\n",
        "\n",
        "if random_seed:\n",
        "  seed = randint(0, 100000000)\n",
        "\n",
        "print(\"semilla: \", seed)\n",
        "generator = torch.Generator(\"cuda\").manual_seed(seed)\n",
        "\n",
        "with autocast(\"cuda\"):\n",
        "  image = pipe(prompt, num_inference_steps=inference_steps, generator=generator, height=height, width=width, guidance_scale=guidance_scale).images[0]\n",
        "image"
      ]
    },
    {
      "cell_type": "markdown",
      "source": [
        "# Imagen a imagen"
      ],
      "metadata": {
        "id": "nRkQgxUm_Jep"
      }
    },
    {
      "cell_type": "code",
      "source": [
        "%%capture\n",
        "#@title 1- Descargar el modelo\n",
        "from diffusers import StableDiffusionImg2ImgPipeline\n",
        "from google.colab import files\n",
        "from io import BytesIO\n",
        "# Display images.\n",
        "from IPython.display import display\n",
        "from PIL import Image, ImageEnhance\n",
        "\n",
        "device = \"cuda\"\n",
        "model_path = \"CompVis/stable-diffusion-v1-4\"\n",
        "\n",
        "pipe_img = StableDiffusionImg2ImgPipeline.from_pretrained(\n",
        "    model_path,\n",
        "    revision=\"fp16\", \n",
        "    torch_dtype=torch.float16,\n",
        "    use_auth_token=True\n",
        ")\n",
        "pipe_img = pipe_img.to(device)\n",
        "\n",
        "def dummy_checker(images, **kwargs): return images, False\n",
        "pipe_img.safety_checker = dummy_checker"
      ],
      "metadata": {
        "id": "Xde6Hq3wp05q",
        "cellView": "form"
      },
      "execution_count": null,
      "outputs": []
    },
    {
      "cell_type": "code",
      "source": [
        "#@title 2- Seleccionar imagen inicial\n",
        "import os\n",
        "from google.colab import files\n",
        "import shutil\n",
        "\n",
        "upload_folder = 'inputs'\n",
        "result_folder = 'results'\n",
        "\n",
        "os.makedirs(upload_folder, exist_ok=True)\n",
        "os.makedirs(result_folder, exist_ok=True)\n",
        "\n",
        "# upload files\n",
        "uploaded = files.upload()\n",
        "\n",
        "image_name = \"\"\n",
        "\n",
        "for k in uploaded.keys():\n",
        "  image_name = k\n",
        "\n",
        "for filename in uploaded.keys():\n",
        "  dst_path = os.path.join(upload_folder, filename)\n",
        "  print(f'move {filename} to {dst_path}')\n",
        "  shutil.move(filename, dst_path)\n",
        "\n",
        "img = Image.open('inputs/' + image_name)\n",
        "  \n",
        "width = img.width\n",
        "height = img.height\n",
        "\n",
        "size = (width, height)\n",
        "\n",
        "image = Image.open(BytesIO(uploaded[image_name])).resize(size)\n",
        "display(image)"
      ],
      "metadata": {
        "id": "ur93pk962M74",
        "cellView": "form"
      },
      "execution_count": null,
      "outputs": []
    },
    {
      "cell_type": "code",
      "source": [
        "#@title 3- Generar la nueva imagen\n",
        "\n",
        "prompt = \"A cartoon knight\" #@param {type:\"string\"}\n",
        "inference_steps = 50 #@param {type:\"number\"}\n",
        "guidance_scale = 10 #@param {type:\"number\"}\n",
        "strength = 0.8 #@param {type:\"number\"}\n",
        "random_seed = True #@param {type:\"boolean\"}\n",
        "\n",
        "\n",
        "seed = 0 #@param {type:\"number\"}\n",
        "\n",
        "if random_seed:\n",
        "  seed = randint(0, 100000000)\n",
        "\n",
        "print(\"semilla: \", seed)\n",
        "\n",
        "generator2 = torch.Generator(device=device).manual_seed(seed)\n",
        "\n",
        "with autocast(\"cuda\"):\n",
        "    generated_img = pipe_img(prompt=prompt, num_inference_steps=inference_steps, init_image=image, strength=strength, guidance_scale=guidance_scale, generator=generator2).images[0]\n",
        "generated_img"
      ],
      "metadata": {
        "id": "GeuXi_nbqt5q",
        "cellView": "form"
      },
      "execution_count": null,
      "outputs": []
    },
    {
      "cell_type": "markdown",
      "source": [
        "# Inpainting"
      ],
      "metadata": {
        "id": "SjL9QjzuzByx"
      }
    },
    {
      "cell_type": "code",
      "source": [
        "%%capture\n",
        "#@title 1- Descargar el modelo\n",
        "\n",
        "import inspect\n",
        "from typing import List, Optional, Union\n",
        "\n",
        "import numpy as np\n",
        "import torch\n",
        "from torch import autocast\n",
        "import PIL\n",
        "from PIL import Image\n",
        "from io import BytesIO\n",
        "from IPython.display import display\n",
        "from diffusers import StableDiffusionInpaintPipeline\n",
        "\n",
        "device = \"cuda\"\n",
        "model_path = \"CompVis/stable-diffusion-v1-4\"\n",
        "\n",
        "pipe_inp = StableDiffusionInpaintPipeline.from_pretrained(\n",
        "    model_path,\n",
        "    revision=\"fp16\", \n",
        "    torch_dtype=torch.float16,\n",
        "    use_auth_token=True\n",
        ").to(device)\n",
        "\n",
        "def dummy_checker(images, **kwargs): return images, False\n",
        "pipe_inp.safety_checker = dummy_checker"
      ],
      "metadata": {
        "cellView": "form",
        "id": "N4xyKrmyzQVv"
      },
      "execution_count": null,
      "outputs": []
    },
    {
      "cell_type": "code",
      "source": [
        "#@title 2- Seleccionar imagen inicial\n",
        "\n",
        "import os\n",
        "from google.colab import files\n",
        "import shutil\n",
        "\n",
        "upload_folder = 'inputs'\n",
        "result_folder = 'results'\n",
        "\n",
        "os.makedirs(upload_folder, exist_ok=True)\n",
        "os.makedirs(result_folder, exist_ok=True)\n",
        "\n",
        "# upload files\n",
        "uploaded = files.upload()\n",
        "\n",
        "image_name = \"\"\n",
        "\n",
        "for k in uploaded.keys():\n",
        "  image_name = k\n",
        "\n",
        "for filename in uploaded.keys():\n",
        "  dst_path = os.path.join(upload_folder, filename)\n",
        "  print(f'move {filename} to {dst_path}')\n",
        "  shutil.move(filename, dst_path)\n",
        "\n",
        "img = Image.open('inputs/' + image_name)\n",
        "  \n",
        "width = img.width\n",
        "height = img.height\n",
        "\n",
        "size = (width, height)\n",
        "\n",
        "image_a = Image.open(BytesIO(uploaded[image_name])).resize(size)\n",
        "display(image_a)"
      ],
      "metadata": {
        "cellView": "form",
        "id": "TLQ3EeU8z9S5"
      },
      "execution_count": null,
      "outputs": []
    },
    {
      "cell_type": "code",
      "source": [
        "#@title 2- Seleccionar máscara\n",
        "\n",
        "upload_folder = 'inputs'\n",
        "result_folder = 'results'\n",
        "\n",
        "os.makedirs(upload_folder, exist_ok=True)\n",
        "os.makedirs(result_folder, exist_ok=True)\n",
        "\n",
        "# upload files\n",
        "uploaded = files.upload()\n",
        "\n",
        "image_name = \"\"\n",
        "\n",
        "for k in uploaded.keys():\n",
        "  image_name = k\n",
        "\n",
        "for filename in uploaded.keys():\n",
        "  dst_path = os.path.join(upload_folder, filename)\n",
        "  print(f'move {filename} to {dst_path}')\n",
        "  shutil.move(filename, dst_path)\n",
        "\n",
        "img = Image.open('inputs/' + image_name)\n",
        "  \n",
        "width = img.width\n",
        "height = img.height\n",
        "\n",
        "size = (width, height)\n",
        "\n",
        "image_b = Image.open(BytesIO(uploaded[image_name])).resize(size)\n",
        "display(image_b)"
      ],
      "metadata": {
        "cellView": "form",
        "id": "pYAR_GV40Kx_"
      },
      "execution_count": null,
      "outputs": []
    },
    {
      "cell_type": "code",
      "source": [
        "#@title 3- Generar imagen\n",
        "\n",
        "def inpaint(p, init_image, mask_image=None, strength=0.75, guidance_scale=7.5, generator=None, num_samples=1, n_iter=1):\n",
        "    all_images = []\n",
        "    for _ in range(n_iter):\n",
        "        with autocast(\"cuda\"):\n",
        "            images = pipe_inp(\n",
        "                prompt=[p] * num_samples,\n",
        "                init_image=init_image,\n",
        "                mask_image=mask_image,\n",
        "                strength=strength,\n",
        "                guidance_scale=guidance_scale,\n",
        "                generator=generator,\n",
        "            ).images\n",
        "        all_images.extend(images)\n",
        "    return all_images\n",
        "\n",
        "\n",
        "prompt = \"a cat sitting on a bench\" #@param {type:\"string\"}\n",
        "strength=0.75 #@param {type:\"number\"}\n",
        "guidance_scale=7.5 #@param {type:\"number\"}\n",
        "num_samples = 3 #@param {type:\"number\"}\n",
        "n_iter = 1 #@param {type:\"number\"}\n",
        "random_seed = True #@param {type:\"boolean\"}\n",
        "\n",
        "\n",
        "seed = 0 #@param {type:\"number\"}\n",
        "\n",
        "if random_seed:\n",
        "  seed = randint(0, 100000000)\n",
        "\n",
        "generator = torch.Generator(device=\"cuda\").manual_seed(seed) # change the seed to get different results\n",
        "all_images = inpaint(prompt, image_a, image_b, strength=strength, guidance_scale=guidance_scale, generator=generator, num_samples=num_samples, n_iter=n_iter)\n",
        "\n",
        "display(all_images[0])"
      ],
      "metadata": {
        "id": "XyXrcIUR0tzv",
        "cellView": "form"
      },
      "execution_count": null,
      "outputs": []
    },
    {
      "cell_type": "markdown",
      "source": [
        "# Aumentar resolución"
      ],
      "metadata": {
        "id": "eb__F82RFeTP"
      }
    },
    {
      "cell_type": "code",
      "source": [
        "%%capture\n",
        "#@title 1- Instalar dependencias\n",
        "!git clone https://github.com/sberbank-ai/Real-ESRGAN\n",
        "%cd Real-ESRGAN\n",
        "!pip install -r requirements.txt\n",
        "# download model weights\n",
        "# x2 \n",
        "!gdown https://drive.google.com/uc?id=1pG2S3sYvSaO0V0B8QPOl1RapPHpUGOaV -O weights/RealESRGAN_x2.pth\n",
        "# x4\n",
        "!gdown https://drive.google.com/uc?id=1SGHdZAln4en65_NQeQY9UjchtkEF9f5F -O weights/RealESRGAN_x4.pth\n",
        "# x8\n",
        "!gdown https://drive.google.com/uc?id=1mT9ewx86PSrc43b-ax47l1E2UzR7Ln4j -O weights/RealESRGAN_x8.pth"
      ],
      "metadata": {
        "cellView": "form",
        "id": "_3ezMxs_FkeV"
      },
      "execution_count": null,
      "outputs": []
    },
    {
      "cell_type": "code",
      "source": [
        "#@title 2- Seleccionar imagen\n",
        "import os\n",
        "from google.colab import files\n",
        "import shutil\n",
        "\n",
        "upload_folder = 'inputs'\n",
        "result_folder = 'results'\n",
        "\n",
        "os.makedirs(upload_folder, exist_ok=True)\n",
        "os.makedirs(result_folder, exist_ok=True)\n",
        "\n",
        "# upload files\n",
        "uploaded = files.upload()\n",
        "\n",
        "img_name = \"\"\n",
        "\n",
        "for k in uploaded.keys():\n",
        "  img_name = k\n",
        "\n",
        "for filename in uploaded.keys():\n",
        "  dst_path = os.path.join(upload_folder, filename)\n",
        "  print(f'move {filename} to {dst_path}')\n",
        "  shutil.move(filename, dst_path)"
      ],
      "metadata": {
        "cellView": "form",
        "id": "dzeZkkWpFyVl"
      },
      "execution_count": null,
      "outputs": []
    },
    {
      "cell_type": "code",
      "source": [
        "#@title 3- Aumentar resolución x4\n",
        "from realesrgan import RealESRGAN\n",
        "from PIL import Image\n",
        "import numpy as np\n",
        "import torch\n",
        "\n",
        "device = torch.device('cuda' if torch.cuda.is_available() else 'cpu')\n",
        "print('device:', device)\n",
        "\n",
        "model = RealESRGAN(device, scale=4)\n",
        "model.load_weights('weights/RealESRGAN_x4.pth')\n",
        "\n",
        "path_to_image = 'inputs/' + img_name\n",
        "result_image_path = 'results/sr_image.png'\n",
        "\n",
        "image = Image.open(path_to_image).convert('RGB')\n",
        "sr_image = model.predict(np.array(image))\n",
        "\n",
        "sr_image.save(result_image_path)\n",
        "sr_image"
      ],
      "metadata": {
        "cellView": "form",
        "id": "bqQ2QvQ5IZue"
      },
      "execution_count": null,
      "outputs": []
    }
  ],
  "metadata": {
    "accelerator": "GPU",
    "colab": {
      "collapsed_sections": [],
      "machine_shape": "hm",
      "provenance": [],
      "include_colab_link": true
    },
    "gpuClass": "standard",
    "kernelspec": {
      "display_name": "Python 3",
      "name": "python3"
    },
    "language_info": {
      "name": "python"
    }
  },
  "nbformat": 4,
  "nbformat_minor": 0
}